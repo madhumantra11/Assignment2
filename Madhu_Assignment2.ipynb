{
 "cells": [
  {
   "cell_type": "markdown",
   "metadata": {},
   "source": [
    "Q1. Write a Python Program to implement your own myreduce() function which works exactly like \n",
    "    Python's built-in function reduce() "
   ]
  },
  {
   "cell_type": "code",
   "execution_count": 15,
   "metadata": {},
   "outputs": [
    {
     "name": "stdout",
     "output_type": "stream",
     "text": [
      "Minimum of the List is:3\n"
     ]
    }
   ],
   "source": [
    "def myreduce(func,Lst):\n",
    "    result =Lst[0]\n",
    "    for i in Lst[1:]:\n",
    "        result = func(result,i)\n",
    "    return result\n",
    "\n",
    "def mini(x,y): \n",
    "    return x if (x<y) else y\n",
    "\n",
    "Lst = [23,57,13,3,99]\n",
    "\n",
    "print(\"Minimum of the List is:\" +str(myreduce(mini,Lst)))"
   ]
  },
  {
   "cell_type": "markdown",
   "metadata": {},
   "source": [
    "Q2. Write a Python Program to implement your own myfilter() function which works exactly like \n",
    "    Python's built-in function filter() \n",
    "    "
   ]
  },
  {
   "cell_type": "code",
   "execution_count": 14,
   "metadata": {},
   "outputs": [
    {
     "name": "stdout",
     "output_type": "stream",
     "text": [
      "Filter only numbers divisible by 3[3, 6, 15, 18, 21]\n"
     ]
    }
   ],
   "source": [
    "def myfilter(func,lst):\n",
    "    result =[]\n",
    "    for i in lst:\n",
    "        if func(i):\n",
    "            result.append(i)\n",
    "    return result\n",
    "\n",
    "def is_div_by3(num):\n",
    "    if num%3==0:\n",
    "        return True\n",
    "    else:\n",
    "        return False\n",
    "    \n",
    "lst = [3,6,11,13,15,17,18,20,21]\n",
    "\n",
    "print(\"Filter only numbers divisible by 3\" +  str(myfilter(is_div_by3,lst)))\n",
    "              \n",
    "    "
   ]
  },
  {
   "cell_type": "markdown",
   "metadata": {},
   "source": [
    "Q3. Implement List comprehensions to produce the following lists. \n",
    " \n",
    "    Write List comprehensions to produce the following Lists \n",
    "    \n",
    "    a. ['A', 'C', 'A', 'D', 'G', 'I', ’L’, ‘ D’] "
   ]
  },
  {
   "cell_type": "code",
   "execution_count": 13,
   "metadata": {},
   "outputs": [
    {
     "data": {
      "text/plain": [
       "['A', 'C', 'A', 'D', 'G', 'I', 'L', 'D']"
      ]
     },
     "execution_count": 13,
     "metadata": {},
     "output_type": "execute_result"
    }
   ],
   "source": [
    "matrix = ['A','C','A','D'],['G','I','L','D']\n",
    "lst = [row[x] for row in matrix for x in range(4)]\n",
    "lst\n",
    "                           \n",
    "                           "
   ]
  },
  {
   "cell_type": "code",
   "execution_count": 12,
   "metadata": {},
   "outputs": [
    {
     "data": {
      "text/plain": [
       "['x', 'xx', 'xxx', 'xxxx', 'y', 'yy', 'yyy', 'yyyy', 'z', 'zz', 'zzz', 'zzzz']"
      ]
     },
     "execution_count": 12,
     "metadata": {},
     "output_type": "execute_result"
    }
   ],
   "source": [
    "# b. ['x', 'xx', 'xxx', 'xxxx', 'y', 'yy', 'yyy', 'yyyy', 'z', 'zz', 'zzz', 'zzzz'] \n",
    "\n",
    "lst = ['x','y','z']\n",
    "result = [row*num for row in lst for num in range(1,5)]\n",
    "result"
   ]
  },
  {
   "cell_type": "code",
   "execution_count": 11,
   "metadata": {},
   "outputs": [
    {
     "data": {
      "text/plain": [
       "['x', 'y', 'z', 'xx', 'yy', 'zz', 'xxx', 'yyy', 'zzz', 'xxxx', 'yyyy', 'zzzz']"
      ]
     },
     "execution_count": 11,
     "metadata": {},
     "output_type": "execute_result"
    }
   ],
   "source": [
    "# c. ['x', 'y', 'z', 'xx', 'yy', 'zz', 'xx', 'yy', 'zz', 'xxxx', 'yyyy', 'zzzz']\n",
    "\n",
    "lst = ['x','y','z']\n",
    "result =[row*num for num in range(1,5) for row in lst]\n",
    "result"
   ]
  },
  {
   "cell_type": "code",
   "execution_count": 10,
   "metadata": {},
   "outputs": [
    {
     "data": {
      "text/plain": [
       "[[2], [3], [4], [3], [4], [5], [4], [5], [6]]"
      ]
     },
     "execution_count": 10,
     "metadata": {},
     "output_type": "execute_result"
    }
   ],
   "source": [
    "# d. [[2], [3], [4], [3], [4], [5], [4], [5], [6]] \n",
    " \n",
    "lst = [[x+y] for x in range(2,5) for y in range(0,3)]\n",
    "lst\n",
    " "
   ]
  },
  {
   "cell_type": "code",
   "execution_count": 9,
   "metadata": {},
   "outputs": [
    {
     "data": {
      "text/plain": [
       "[[2, 3, 4, 5], [3, 4, 5, 6], [4, 5, 6, 7], [5, 6, 7, 8]]"
      ]
     },
     "execution_count": 9,
     "metadata": {},
     "output_type": "execute_result"
    }
   ],
   "source": [
    "# e. [[2, 3, 4, 5], [3, 4, 5, 6], [4, 5, 6, 7], [5, 6, 7, 8]]\n",
    "\n",
    "lst = [[x+2]+[x+3]+[x+4]+[x+5] for x in range(4)]\n",
    "lst\n"
   ]
  },
  {
   "cell_type": "code",
   "execution_count": 8,
   "metadata": {},
   "outputs": [
    {
     "data": {
      "text/plain": [
       "[(1, 1), (2, 1), (3, 1), (1, 2), (2, 2), (3, 2), (1, 3), (2, 3), (3, 3)]"
      ]
     },
     "execution_count": 8,
     "metadata": {},
     "output_type": "execute_result"
    }
   ],
   "source": [
    "# f. [(1, 1), (2, 1), (3, 1), (1, 2), (2, 2), (3, 2), (1, 3), (2, 3), (3, 3)] \n",
    "\n",
    "matrix1 = [1,2,3]\n",
    "matrix2 = [1,2,3]\n",
    "combine = [(y,x) for x in matrix1 for y in matrix2]\n",
    "combine\n"
   ]
  },
  {
   "cell_type": "markdown",
   "metadata": {},
   "source": [
    "Q4. Implement a function longestWord() that takes a list of words and returns the longest one. \n",
    "\n"
   ]
  },
  {
   "cell_type": "code",
   "execution_count": 7,
   "metadata": {},
   "outputs": [
    {
     "data": {
      "text/plain": [
       "'Arithematic Operations'"
      ]
     },
     "execution_count": 7,
     "metadata": {},
     "output_type": "execute_result"
    }
   ],
   "source": [
    "from functools import reduce\n",
    "lst = ('Arithematic Operations','Add','Bayer','Corp','Enhancement','dance')\n",
    "longestWord = lambda x,y: x if (len(x) > len(y)) else y\n",
    "reduce(longestWord,lst)   \n",
    "    "
   ]
  },
  {
   "cell_type": "markdown",
   "metadata": {},
   "source": [
    "Task 2\n",
    "\n",
    "Q1. Write a Python Program(with class concepts) to find the area of the triangle using the below formula. \n",
    " \n",
    "area = (s*(s-a)*(s-b)*(s-c)) ** 0.5 \n",
    " \n",
    "Function to take the length of the sides of triangle from user should be defined in the parent class and function to calculate the area should be defined in subclass. \n",
    " \n",
    " "
   ]
  },
  {
   "cell_type": "code",
   "execution_count": 16,
   "metadata": {},
   "outputs": [
    {
     "name": "stdout",
     "output_type": "stream",
     "text": [
      "Enter the value of a:4\n",
      "Enter the value of b:4\n",
      "Enter the value of c:4\n",
      "s =  6.0\n",
      "Area of the triangle is : 6.928203230275509\n"
     ]
    }
   ],
   "source": [
    "class Triangle:\n",
    "    def __init__(self,a,b,c):\n",
    "        self.a = float(a)\n",
    "        self.b = float(b)\n",
    "        self.c = float(c)\n",
    "        self.s = (float(a) + float(b) + float(c))/2.0\n",
    "\n",
    "a = float(input(\"Enter the value of a:\"))\n",
    "b = float(input(\"Enter the value of b:\"))\n",
    "c = float(input(\"Enter the value of c:\"))\n",
    "\n",
    "attr1 = Triangle(a,b,c)\n",
    "\n",
    "print(\"s = \",attr1.s)\n",
    "\n",
    "class Area(Triangle):\n",
    "    def __init__(self):\n",
    "        super().__init__(a,b,c)\n",
    "        self.area =((attr1.s*(attr1.s-a)*(attr1.s-b)*(attr1.s-c))**0.5)\n",
    "        \n",
    "attr2 = Area()\n",
    "\n",
    "print(\"Area of the triangle is :\",attr2.area)"
   ]
  },
  {
   "cell_type": "markdown",
   "metadata": {},
   "source": [
    "Q2. Write a function filter_long_words() that takes a list of words and an integer n and returns the     list of words that are longer than n."
   ]
  },
  {
   "cell_type": "code",
   "execution_count": 6,
   "metadata": {},
   "outputs": [
    {
     "data": {
      "text/plain": [
       "['Apple', 'Elephant']"
      ]
     },
     "execution_count": 6,
     "metadata": {},
     "output_type": "execute_result"
    }
   ],
   "source": [
    "def filter_long_words(words,num):\n",
    "    lstwrds =[]\n",
    "          \n",
    "    for i in range(len(words)):\n",
    "        if len(words[i]) > num:\n",
    "            lstwrds.append(words[i])\n",
    "    return lstwrds\n",
    "\n",
    "words = ('Apple','Ball','Cat','Doll','Elephant')\n",
    "num = 4\n",
    "\n",
    "func = list(filter_long_words(words, num))\n",
    "func"
   ]
  },
  {
   "cell_type": "markdown",
   "metadata": {},
   "source": [
    "Q3. Write a Python program using function concept that maps  list of words into a list of integers   \n",
    "    representing the lengths of the corresponding words. "
   ]
  },
  {
   "cell_type": "code",
   "execution_count": 5,
   "metadata": {},
   "outputs": [
    {
     "data": {
      "text/plain": [
       "[2, 3, 4]"
      ]
     },
     "execution_count": 5,
     "metadata": {},
     "output_type": "execute_result"
    }
   ],
   "source": [
    "def mapp(L):\n",
    "    return len(L)\n",
    "List1 = ['ab','cde','erty']\n",
    "Final_List = list(map(mapp,List1))\n",
    "Final_List\n"
   ]
  },
  {
   "cell_type": "markdown",
   "metadata": {},
   "source": [
    "Q4. Write a Python function which takes a character (i.e. a string of length 1) and returns True if       it is a vowel, False otherwise. "
   ]
  },
  {
   "cell_type": "code",
   "execution_count": 4,
   "metadata": {},
   "outputs": [
    {
     "name": "stdout",
     "output_type": "stream",
     "text": [
      "Enter a character:':'Attr\n",
      "First character value is: A\n"
     ]
    },
    {
     "data": {
      "text/plain": [
       "True"
      ]
     },
     "execution_count": 4,
     "metadata": {},
     "output_type": "execute_result"
    }
   ],
   "source": [
    "def is_vowel(char):\n",
    "    vowels = ('a','e','i','o','u','A','E','I','O','U')\n",
    "    if char in vowels:\n",
    "        return True\n",
    "    else:\n",
    "        return False\n",
    "char = input(\"Enter a character:':'\")[0]\n",
    "print(\"First character value is:\",char)\n",
    "is_vowel(char)"
   ]
  },
  {
   "cell_type": "code",
   "execution_count": null,
   "metadata": {},
   "outputs": [],
   "source": []
  },
  {
   "cell_type": "markdown",
   "metadata": {},
   "source": []
  }
 ],
 "metadata": {
  "kernelspec": {
   "display_name": "Python 3",
   "language": "python",
   "name": "python3"
  },
  "language_info": {
   "codemirror_mode": {
    "name": "ipython",
    "version": 3
   },
   "file_extension": ".py",
   "mimetype": "text/x-python",
   "name": "python",
   "nbconvert_exporter": "python",
   "pygments_lexer": "ipython3",
   "version": "3.7.4"
  }
 },
 "nbformat": 4,
 "nbformat_minor": 2
}
